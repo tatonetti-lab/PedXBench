{
 "cells": [
  {
   "cell_type": "code",
   "execution_count": 7,
   "metadata": {},
   "outputs": [],
   "source": [
    "import re, pandas as pd, numpy as np\n",
    "\n",
    "ID_RE = re.compile(\n",
    "    r'\\b(?P<kind>NDA|BLA|ANDA)\\s+'      # KIND\n",
    "    r'(?P<root>\\d{5,7})'                # ROOT  (keep zeros)\n",
    "    r'(?:\\s*/\\s*(?P<sup>\\d{1,4}))?'     # /0086  (keep zeros)\n",
    "    r'(?:\\s*-\\s*Original\\s*(?P<orig>\\d+))?',   # - Original 1\n",
    "    flags=re.I)\n",
    "\n",
    "def parse_ids(cell:str):\n",
    "    \"\"\"\n",
    "    Return list of dicts with canon_id, kind, root, supplement.\n",
    "    Leading zeros are kept intact.\n",
    "    \"\"\"\n",
    "    if pd.isna(cell):\n",
    "        return []\n",
    "\n",
    "    hits = []\n",
    "    for m in ID_RE.finditer(str(cell)):\n",
    "        kind = m.group('kind').upper()\n",
    "        root = m.group('root')                # keep zeros\n",
    "\n",
    "        if m.group('sup'):                    # /0086\n",
    "            sup = m.group('sup')              # keep zeros\n",
    "            canon = f\"{kind}_{root}_{sup}\"\n",
    "        elif m.group('orig'):                 # - Original 1\n",
    "            sup = f\"ORIG{m.group('orig')}\"\n",
    "            canon = f\"{kind}_{root}_{sup}\"\n",
    "        else:\n",
    "            sup, canon = np.nan, f\"{kind}_{root}\"\n",
    "\n",
    "        hits.append(dict(kind=kind, root=root,\n",
    "                         supplement=sup, canon_id=canon))\n",
    "    return hits\n",
    "\n",
    "# ---------- how to use on a dataframe --------------------------\n",
    "def explode_ids(df, col=\"FDA Application Number(s) \"):\n",
    "    rows = []\n",
    "    for _, row in df.iterrows():\n",
    "        ids = parse_ids(row[col])\n",
    "        if not ids:                           # keep row with NaNs if no ID\n",
    "            rows.append({**row.to_dict(),\n",
    "                          **dict(kind=np.nan, root=np.nan,\n",
    "                                 supplement=np.nan, canon_id=np.nan)})\n",
    "        else:\n",
    "            for d in ids:                     # explode 1-row-per-ID\n",
    "                rows.append({**row.to_dict(), **d})\n",
    "    return pd.DataFrame(rows)\n",
    "\n",
    "# example\n",
    "df_raw   = pd.read_excel(\"/Users/srinivasana/Documents/peds_agents/data/web_fdaaa_bpca_prea_pediatric_study_characteristics-_1_17_2024_1_53_pm_est_-_debbie.avantfda.hhs_.gov_.xlsx\", sheet_name=0)\n",
    "df_clean = explode_ids(df_raw)\n",
    "\n",
    "df_clean.to_excel(\"/Users/srinivasana/Documents/peds_agents/data/web_fdaaa_clean.xlsx\", index=False)\n"
   ]
  },
  {
   "cell_type": "code",
   "execution_count": 2,
   "metadata": {},
   "outputs": [],
   "source": [
    "import pandas as pd"
   ]
  },
  {
   "cell_type": "code",
   "execution_count": 8,
   "metadata": {},
   "outputs": [],
   "source": [
    "df = pd.read_excel(\"/Users/srinivasana/Documents/peds_agents/data/web_fdaaa_clean.xlsx\", engine = \"openpyxl\")"
   ]
  },
  {
   "cell_type": "code",
   "execution_count": null,
   "metadata": {},
   "outputs": [],
   "source": []
  }
 ],
 "metadata": {
  "kernelspec": {
   "display_name": "peds-agent-venv",
   "language": "python",
   "name": "python3"
  },
  "language_info": {
   "codemirror_mode": {
    "name": "ipython",
    "version": 3
   },
   "file_extension": ".py",
   "mimetype": "text/x-python",
   "name": "python",
   "nbconvert_exporter": "python",
   "pygments_lexer": "ipython3",
   "version": "3.13.2"
  }
 },
 "nbformat": 4,
 "nbformat_minor": 2
}
